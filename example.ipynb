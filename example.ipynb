{
 "cells": [
  {
   "cell_type": "code",
   "execution_count": 1,
   "metadata": {},
   "outputs": [],
   "source": [
    "import numpy as np\n",
    "import matplotlib.pyplot as plt\n",
    "import pandas as pd\n",
    "\n",
    "from sklearn.model_selection    import train_test_split\n",
    "from sklearn.ensemble           import RandomForestClassifier\n",
    "from sklearn.linear_model       import LogisticRegression\n",
    "from sklearn.metrics            import (accuracy_score, balanced_accuracy_score, average_precision_score, brier_score_loss,\n",
    "                                         f1_score, log_loss, precision_score, recall_score, roc_auc_score, confusion_matrix)\n",
    "from sklearn.metrics            import classification_report, confusion_matrix\n",
    "\n",
    "from functions.bank_clean       import get_bank_additional\n",
    "from functions.mushroom_clean   import get_mushrooms\n",
    "\n",
    "from _base import SyntheticStratifiedKFold\n",
    "\n",
    "import warnings\n",
    "warnings.filterwarnings(\"ignore\")"
   ]
  },
  {
   "cell_type": "markdown",
   "metadata": {},
   "source": [
    "### Import, Clean, and Summarize Data"
   ]
  },
  {
   "cell_type": "code",
   "execution_count": 4,
   "metadata": {},
   "outputs": [
    {
     "name": "stdout",
     "output_type": "stream",
     "text": [
      "Total Columns:  11\n",
      "Train Rows:  3758\n",
      "Test  Rows:  1253\n",
      "N Classes:  2\n",
      "\n",
      "Train Classes: [0 1]\n",
      " - Class 0: 3151 (83.85%)\n",
      " - Class 1: 607 (16.15%)\n",
      "\n",
      "Test Classes: [0 1]\n",
      " - Class 0: 1057 (84.36%)\n",
      " - Class 1: 196 (15.64%)\n"
     ]
    }
   ],
   "source": [
    "# get data\n",
    "#X, y, df = get_bank_additional()\n",
    "X, y, df = get_mushrooms(pca_components = 10, minority_frac = 0.8)\n",
    "\n",
    "# create test and training sets\n",
    "X_train, X_test, y_train, y_test = train_test_split(X, y, test_size = 0.25, random_state = 1) \n",
    "\n",
    "# gather details\n",
    "total_columns \t= df.shape[1]\n",
    "train_rows \t\t= X_train.shape[0]\n",
    "test_rows \t\t= X_test.shape[0]\n",
    "classes \t\t= pd.unique(y)\n",
    "\n",
    "# summarize\n",
    "print('Total Columns:  %d' % total_columns )\n",
    "print('Train Rows:  %d' % train_rows )\n",
    "print('Test  Rows:  %d' % test_rows )\n",
    "print('N Classes:  %d' % len(classes))\n",
    "\n",
    "print('\\nTrain Classes: %s' % pd.unique(y))\n",
    "for c in classes:\n",
    "\ttotal = len(y_train[y_train == c])\n",
    "\tratio = (total / float(len(y_train))) * 100\n",
    "\tprint(' - Class %s: %d (%.2f%%)' % (str(c), total, ratio))\n",
    "\n",
    "print('\\nTest Classes: %s' % pd.unique(y))\n",
    "for c in classes:\n",
    "\ttotal = len(y_test[y_test == c])\n",
    "\tratio = (total / float(len(y_test))) * 100\n",
    "\tprint(' - Class %s: %d (%.2f%%)' % (str(c), total, ratio))"
   ]
  },
  {
   "cell_type": "markdown",
   "metadata": {},
   "source": [
    "### Perform Methodology and Score"
   ]
  },
  {
   "cell_type": "code",
   "execution_count": 5,
   "metadata": {},
   "outputs": [
    {
     "name": "stdout",
     "output_type": "stream",
     "text": [
      "-- Confusion Matrix -----------------------------------\n"
     ]
    },
    {
     "data": {
      "image/png": "[encoded data removed]",
      "text/plain": [
       "<Figure size 432x288 with 2 Axes>"
      ]
     },
     "metadata": {
      "needs_background": "light"
     },
     "output_type": "display_data"
    },
    {
     "name": "stdout",
     "output_type": "stream",
     "text": [
      "-- Classification Report ------------------------------\n",
      "              precision    recall  f1-score   support\n",
      "\n",
      "           0       0.97      0.98      0.98      1057\n",
      "           1       0.89      0.86      0.87       196\n",
      "\n",
      "    accuracy                           0.96      1253\n",
      "   macro avg       0.93      0.92      0.92      1253\n",
      "weighted avg       0.96      0.96      0.96      1253\n",
      "\n",
      "-- Scores ---------------------------------------------\n",
      "accuracy_score            : 0.9609\n",
      "balanced_accuracy_score   : 0.9186\n",
      "precision_score           : 0.8889\n",
      "average_precision_score   : 0.7843\n",
      "recall_score              : 0.8571\n",
      "f1_score                  : 0.8727\n",
      "roc_auc_score             : 0.9186\n",
      "log_loss                  : 1.3507\n",
      "brier_score_loss          : 0.0391\n",
      "-------------------------------------------------------\n"
     ]
    }
   ],
   "source": [
    "# Initialize method\n",
    "sskfold = SyntheticStratifiedKFold(\n",
    "          model_type = LogisticRegression()\n",
    "        , scoring = accuracy_score\n",
    "        , folds = 5\n",
    "        , shuffle = True\n",
    "        , random_state = 1\n",
    "    )\n",
    "\n",
    "# Fit method\n",
    "sskfold.fit(X_train, y_train)\n",
    "\n",
    "# Predict using method\n",
    "preds = sskfold.predict(X_test)\n",
    "\n",
    "# Calculate the confusion matrix\n",
    "cm = confusion_matrix(y_test, preds)\n",
    "\n",
    "# Create a figure and axes for the plot\n",
    "fig, ax = plt.subplots()\n",
    "\n",
    "# Create the heatmap using the data and labels\n",
    "heatmap = ax.pcolor(cm, cmap=plt.cm.Blues)\n",
    "\n",
    "# Format the ticks on the x and y axes\n",
    "ax.set_xticks(np.arange(cm.shape[0]) + 0.5, minor=False)\n",
    "ax.set_yticks(np.arange(cm.shape[1]) + 0.5, minor=False)\n",
    "\n",
    "# Set the labels for the x and y axes\n",
    "ax.set_xticklabels(['TRUE', 'FALSE'], minor=False)\n",
    "ax.set_yticklabels(['TRUE', 'FALSE'], minor=False)\n",
    "\n",
    "# Add a title to the plot\n",
    "print(\"-- Confusion Matrix -----------------------------------\")\n",
    "plt.xlabel('Predicted Label')\n",
    "plt.ylabel('True Label')\n",
    "\n",
    "# Add a colorbar to the plot\n",
    "fig.colorbar(heatmap)\n",
    "\n",
    "# Add the numbers to each box in the confusion matrix\n",
    "for x in range(cm.shape[0]):\n",
    "    for y in range(cm.shape[1]):\n",
    "        ax.text(x + 0.5, y + 0.5, '{0} \\n({1:.2f}%)'.format(cm[y, x], cm[y, x] / cm.sum() * 100),\n",
    "                horizontalalignment='center',\n",
    "                verticalalignment='center',\n",
    "                )\n",
    "\n",
    "# Show the plot\n",
    "plt.show()\n",
    "\n",
    "# Classification Report\n",
    "print(\"-- Classification Report ------------------------------\")\n",
    "print(classification_report(y_test, preds))\n",
    "\n",
    "\n",
    "# Print Scores\n",
    "metric_list = [accuracy_score, balanced_accuracy_score, precision_score, average_precision_score, \n",
    "                recall_score, f1_score, roc_auc_score, log_loss, brier_score_loss]\n",
    "\n",
    "print(\"-- Scores ---------------------------------------------\")\n",
    "for score in metric_list:\n",
    "    print(str(score).split(\" \")[1].ljust(25), \": {0:.4f}\".format(score(y_test, preds)))\n",
    "print(\"-------------------------------------------------------\")\n"
   ]
  },
  {
   "cell_type": "code",
   "execution_count": null,
   "metadata": {},
   "outputs": [],
   "source": []
  }
 ],
 "metadata": {
  "kernelspec": {
   "display_name": "Python 3.7.6 ('base')",
   "language": "python",
   "name": "python3"
  },
  "language_info": {
   "codemirror_mode": {
    "name": "ipython",
    "version": 3
   },
   "file_extension": ".py",
   "mimetype": "text/x-python",
   "name": "python",
   "nbconvert_exporter": "python",
   "pygments_lexer": "ipython3",
   "version": "3.7.6"
  },
  "orig_nbformat": 4,
  "vscode": {
   "interpreter": {
    "hash": "404cf50b3418ad68810006ad42694d7551b22da1e4dcc1fe48f7c43b3a70202c"
   }
  }
 },
 "nbformat": 4,
 "nbformat_minor": 2
}
