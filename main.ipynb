{
 "cells": [
  {
   "cell_type": "markdown",
   "metadata": {},
   "source": [
    "#### Import Libraries"
   ]
  },
  {
   "cell_type": "code",
   "execution_count": 1,
   "metadata": {},
   "outputs": [],
   "source": [
    "import pandas   as pd\n",
    "\n",
    "from sklearn.metrics            import f1_score, accuracy_score, roc_auc_score, log_loss, confusion_matrix\n",
    "\n",
    "from functions.clean_data import clean_df\n",
    "from functions.Sampled_StratifiedKFold import SSKFold\n",
    "\n",
    "import warnings\n",
    "warnings.filterwarnings(\"ignore\")"
   ]
  },
  {
   "cell_type": "markdown",
   "metadata": {},
   "source": [
    "#### Data Load and Cleaning"
   ]
  },
  {
   "cell_type": "code",
   "execution_count": 2,
   "metadata": {},
   "outputs": [
    {
     "name": "stdout",
     "output_type": "stream",
     "text": [
      "Train Examples: 891\n",
      "Test Examples: 418\n",
      "Train Inputs:   25\n",
      "N Classes:  2\n",
      "Classes: [0. 1.]\n",
      "Class Breakdown:\n",
      " - Class 0.0: 549 (61.62%)\n",
      " - Class 1.0: 342 (38.38%)\n"
     ]
    }
   ],
   "source": [
    "# Load the dataset\n",
    "df_test = pd.read_csv('data/test.csv')\n",
    "df_train = pd.read_csv('data/train.csv')\n",
    "\n",
    "# Concat the two DataFrames (makes cleaning easier)\n",
    "df = pd.concat([df_train, df_test], sort=True).reset_index(drop=True)\n",
    "\n",
    "# Clean DataFrame\n",
    "clean_df(df)\n",
    "\n",
    "# Get Dummies where applicable\n",
    "df = pd.get_dummies(df)\n",
    "\n",
    "# Split into Training and Testing\n",
    "df_train = df.loc[:890]\n",
    "df_test  = df.loc[891:].drop(['Survived'], axis=1)\n",
    "\n",
    "# Set Train X/y Arrays\n",
    "dfX = df_train.drop(columns=['Survived', 'PassengerId'])\n",
    "dfy = df_train['Survived']\n",
    "\n",
    "# Set Train X Array\n",
    "dfX_test = df_test.drop(columns=['PassengerId'])\n",
    "\n",
    "# Training Details\n",
    "tr_rows = dfX.shape[0]\n",
    "te_rows = dfX_test.shape[0]\n",
    "n_cols = dfX.shape[1]\n",
    "classes = pd.unique(dfy)\n",
    "n_classes = len(classes)\n",
    "\n",
    "# Summarize Training\n",
    "print('Train Examples: %d' % tr_rows)\n",
    "print('Test Examples: %d' % te_rows)\n",
    "print('Train Inputs:   %d' % n_cols)\n",
    "print('N Classes:  %d' % n_classes)\n",
    "print('Classes: %s' % classes)\n",
    "print('Class Breakdown:')\n",
    "\n",
    "for c in classes:\n",
    "\ttotal = len(dfy[dfy == c])\n",
    "\tratio = (total / float(len(dfy))) * 100\n",
    "\tprint(' - Class %s: %d (%.2f%%)' % (str(c), total, ratio))\n"
   ]
  },
  {
   "cell_type": "markdown",
   "metadata": {},
   "source": [
    "#### K-Fold with OverSampling & UnderSampling"
   ]
  },
  {
   "cell_type": "code",
   "execution_count": 3,
   "metadata": {},
   "outputs": [
    {
     "data": {
      "image/png": "[encoded data removed]",
      "text/plain": [
       "<Figure size 432x288 with 2 Axes>"
      ]
     },
     "metadata": {
      "needs_background": "light"
     },
     "output_type": "display_data"
    },
    {
     "name": "stdout",
     "output_type": "stream",
     "text": [
      "Validation Score:     83.21%\n",
      "Optimal Threshold:     0.59\n",
      "Cross Validation Scores: ['77.60%', '79.20%', '76.00%', '72.58%', '80.65%']\n"
     ]
    }
   ],
   "source": [
    "best_threshold, best_score, score_list, model_list, proba, probs = SSKFold(dfX, dfy, scoring_criteria = accuracy_score, cf = True, random_seed = 10)\n",
    "\n",
    "print('Validation Score:     {:.2f}%'.format(best_score*100))\n",
    "print('Optimal Threshold:     {:.2f}'.format(best_threshold))\n",
    "print('Cross Validation Scores: {}'.format(list([ '{:.2f}%'.format(elem*100) for elem in score_list ])))"
   ]
  },
  {
   "cell_type": "markdown",
   "metadata": {},
   "source": [
    "#### Predict X-Test"
   ]
  },
  {
   "cell_type": "code",
   "execution_count": 4,
   "metadata": {},
   "outputs": [
    {
     "data": {
      "text/plain": [
       "0    252\n",
       "1    166\n",
       "Name: Survived, dtype: int64"
      ]
     },
     "execution_count": 4,
     "metadata": {},
     "output_type": "execute_result"
    }
   ],
   "source": [
    "# Define Empty list of probabilities\n",
    "y_probs = pd.DataFrame()\n",
    "\n",
    "# For each model is the model_list, predict probabilities for the hold out\n",
    "for i in range(0, len(model_list)):\n",
    "    y_probs[i] = model_list[i].predict_proba(dfX_test)[:, 1]\n",
    "\n",
    "# Average Probabilities for each record\n",
    "y_probs['Survived_proba'] = (y_probs * score_list).sum(axis = 1) / sum(score_list)\n",
    "\n",
    "# Determine if the probability is above or below threshold (turn into binary)\n",
    "y_probs['Survived'] = (y_probs['Survived_proba'] >= best_threshold).astype('int')\n",
    "\n",
    "# Add PassengerId to DataFrame\n",
    "y_probs['PassengerId'] = df_test['PassengerId'].reset_index(drop=True)\n",
    "\n",
    "# Create CSV of Predictions\n",
    "df_yhat = y_probs[['PassengerId', 'Survived']]\n",
    "df_yhat.to_csv('data/df_yhat.csv', index=False, )\n",
    "\n",
    "# Print\n",
    "df_yhat['Survived'].value_counts()"
   ]
  }
 ],
 "metadata": {
  "kernelspec": {
   "display_name": "Python 3.7.6 ('base')",
   "language": "python",
   "name": "python3"
  },
  "language_info": {
   "codemirror_mode": {
    "name": "ipython",
    "version": 3
   },
   "file_extension": ".py",
   "mimetype": "text/x-python",
   "name": "python",
   "nbconvert_exporter": "python",
   "pygments_lexer": "ipython3",
   "version": "3.7.6"
  },
  "orig_nbformat": 4,
  "vscode": {
   "interpreter": {
    "hash": "404cf50b3418ad68810006ad42694d7551b22da1e4dcc1fe48f7c43b3a70202c"
   }
  }
 },
 "nbformat": 4,
 "nbformat_minor": 2
}
